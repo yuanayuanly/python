{
 "cells": [
  {
   "cell_type": "markdown",
   "metadata": {},
   "source": [
    "# 故事背景：\n",
    "某天，大鱼AI训练营里的小鱼想要物色一个相亲对象，可是她对和另一半的年龄差距很敏感，而鱼儿的记忆力通常不太好，算术更是惨不忍睹。\n",
    "所以她决定请人设计一个程序，要求输入相亲对象的名字和年龄，自动输出和她的一个年龄差距。而她听说大鱼AI训练营里的小哥哥小姐姐们正在学习Python编程，于是决定请他们来帮助她实现这个程序。"
   ]
  },
  {
   "cell_type": "markdown",
   "metadata": {},
   "source": [
    "通过今天课程内容的逐步学习，我们将在最后帮助小鱼实现上述的小程序：  \n",
    "- 输入：相亲对象的姓名， 相亲对象的年龄\n",
    "- 输出：他和小鱼的年龄差距"
   ]
  },
  {
   "cell_type": "markdown",
   "metadata": {},
   "source": [
    "# 1. 什么是Python？"
   ]
  },
  {
   "cell_type": "markdown",
   "metadata": {},
   "source": [
    "- Python是一种解释型、面向对象、动态数据类型的高级程序设计语言。Python之父给Python的定位是“优雅”、“明确”、“简单”，所以Python程序看上去总是简单易懂，初学者学Python，不但入门容易，而且将来深入下去，可以编写那些非常非常复杂的程序。\n",
    "Python的哲学就是简单优雅，尽量写容易看明白的代码，尽量写少的代码。  \n",
    "\n",
    "- Python有几种不同的实现，用不同的语言编写。本课程使用的版本 CPython 是目前最流行的版本。这个解释器是用C语言开发的，所以叫CPython。在命令行下运行python就是启动CPython解释器。\n",
    "\n",
    "- 而另外一种作为教学和学习经常使用的版本叫做IPython，其是建立在CPython之上一个交换器更强的解释器。"
   ]
  },
  {
   "cell_type": "markdown",
   "metadata": {},
   "source": [
    "# 2.第一个输出程序：打印“Hello World”"
   ]
  },
  {
   "cell_type": "markdown",
   "metadata": {},
   "source": [
    "- 在python中，打印文本需要使用“函数print”（函数通常是输入特定的内容然后执行特定的功能，我们在后面会详细介绍，这里只需要会用就好）  \n",
    "- **使用方法：**print('待打印的文本')  \n",
    "- 注意要打印字符串（即文本）内容需的话要用单引号或者双引号包围，但**必须是英文标点符号**\n",
    "- 试着打印一下数字\n",
    "- 要运行cell中的代码只需要选中按快捷键ctrl+enter即可，更多jupyter notebook操作方法可查看上方的Help菜单栏"
   ]
  },
  {
   "cell_type": "code",
   "execution_count": 9,
   "metadata": {},
   "outputs": [
    {
     "name": "stdout",
     "output_type": "stream",
     "text": [
      "Hello World\n"
     ]
    }
   ],
   "source": [
    "print('Hello World')\n",
    "#按住ctrl+enter执行该cell代码"
   ]
  },
  {
   "cell_type": "code",
   "execution_count": 1,
   "metadata": {},
   "outputs": [
    {
     "ename": "SyntaxError",
     "evalue": "invalid syntax (<ipython-input-1-50b4ae29d403>, line 1)",
     "output_type": "error",
     "traceback": [
      "\u001b[1;36m  File \u001b[1;32m\"<ipython-input-1-50b4ae29d403>\"\u001b[1;36m, line \u001b[1;32m1\u001b[0m\n\u001b[1;33m    print(Hello world)\u001b[0m\n\u001b[1;37m                    ^\u001b[0m\n\u001b[1;31mSyntaxError\u001b[0m\u001b[1;31m:\u001b[0m invalid syntax\n"
     ]
    }
   ],
   "source": [
    "print(Hello world)"
   ]
  },
  {
   "cell_type": "code",
   "execution_count": 8,
   "metadata": {},
   "outputs": [
    {
     "name": "stdout",
     "output_type": "stream",
     "text": [
      "啊啊，我想睡觉\n"
     ]
    }
   ],
   "source": [
    "####Test Zone####\n",
    "#试着打印一些自己想说的话或者数字，如果报错可在群里询问\n",
    "print('啊啊，我想睡觉')\n",
    "\n",
    "\n",
    "#################"
   ]
  },
  {
   "cell_type": "markdown",
   "metadata": {},
   "source": [
    "Tips：  \n",
    "上格中的“#”代表注释符，#后面该行的内容会被当做是注释，不会在运行的时候进行编译，所以\"#\"也叫单行注释符。  \n",
    "\n",
    "\n",
    "如果有几十行代码要一行行在前面加#号吗？  \n",
    "此时可以使用多行注释符，即由一对三个双引号包裹的内容： \n",
    "   \n",
    "   \n",
    "\"\"\"  \n",
    "我是被多行注释的内容1  \n",
    "我是被多行注释的内容2  \n",
    "\"\"\""
   ]
  },
  {
   "cell_type": "markdown",
   "metadata": {},
   "source": [
    "# 3. 变量"
   ]
  },
  {
   "cell_type": "markdown",
   "metadata": {},
   "source": [
    "- **概念**：变量的概念与数学代数的方程变量(x = 3)是一致的，类似一个存储东西的容器，在计算机程序中，变量不仅可以是数字，还可以是任意数据类型(x = '大鱼')  \n",
    "- **命名**：变量在程序中就是用一个变量名表示了，**变量名必须是大小写英文、数字和下划线_的组合，且不能用数字开头**  \n",
    "- **创建**：变量的创建通过一个等号“=”即可实现，例如将数字15赋给x即， x = 15, 将文本“我喜欢喝水”赋给s, s = '我喜欢喝水'\n",
    "- 通过将各种“东西”存储在变量中，我们可以实现许多有意思的事情"
   ]
  },
  {
   "cell_type": "markdown",
   "metadata": {},
   "source": [
    "今天是情人节，大鱼要用Python对小鱼说5遍“小鱼我喜欢你”来表白，本来大鱼要写5行print('小鱼我喜欢你')来表白，而大鱼在学习了变量之后，就可以大大的简化代码，例如："
   ]
  },
  {
   "cell_type": "code",
   "execution_count": 7,
   "metadata": {
    "scrolled": false
   },
   "outputs": [
    {
     "name": "stdout",
     "output_type": "stream",
     "text": [
      "小鱼我喜欢你\n",
      "小鱼我喜欢你\n",
      "小鱼我喜欢你\n",
      "小鱼我喜欢你\n",
      "小鱼我喜欢你\n"
     ]
    }
   ],
   "source": [
    "s = '小鱼我喜欢你'\n",
    "print(s)\n",
    "print(s)\n",
    "print(s)\n",
    "print(s)\n",
    "print(s)"
   ]
  },
  {
   "cell_type": "markdown",
   "metadata": {},
   "source": [
    "## 变量类型"
   ]
  },
  {
   "cell_type": "markdown",
   "metadata": {},
   "source": [
    "- 我们知道计算机能处理文本、图形、音频、视频、网页等各种各样的数据，不同的数据，需要定义不同的数据类型。\n",
    "- 通过给变量（容器）赋予不同类型的数据，变量也会变成相应类型，我们可以通过**函数type(变量)来查看该变量的类型**\n",
    "- 在Python中，能够直接处理的简单数据类型有以下5种:"
   ]
  },
  {
   "cell_type": "markdown",
   "metadata": {},
   "source": [
    "- **整数(int：integer)**   \n",
    "Python可以处理任意大小的整数，包括负整数，在程序中的表示方法和数学上的写法一模一样，例如：1, 2, -5, 10.  \n",
    "  \n",
    "- **浮点数(float)**  \n",
    "浮点数即小数,例: 1.2, 3.13等。整数和浮点数在计算机内部存储的方式不同，整数运算永远精确，而浮点数有可能是四舍五入的结果（比如1/3）  \n",
    "  \n",
    "- **字符串(str：string)**  \n",
    "字符串是以单引号'或双引号\"括起来的任意文本, 比如\"ABC\", ''或\"\"本身只是一种表示方式，不是字符串的一部分，因此，字符串'abc'只有a，b，c这3个字符。如果'本身也是一个字符，那就可以用\"\"括起来，比如\"I'm OK\"包含的字符是I，'，m，空格，O，K这6个字符。  \n",
    "<u>特别注意的是 \"123\"是字符串类型， 而 123 是整数类型。</u>\n",
    "- **布尔值**  \n",
    "一个布尔值只有True、False两种值，要么是True，要么是False。可以通过例如 s = True或者 s = False这样的方式赋值。（我们将在学习条件语句时再回顾，此处不理解没有关系）\n",
    "  \n",
    "- **空值**  \n",
    "空值是Python里一个特殊的值，用None表示。None不能理解为0，因为0是有意义的，而None是一个特殊的空值。"
   ]
  },
  {
   "cell_type": "markdown",
   "metadata": {},
   "source": [
    "除了上述5种简单数据类型，还有其它诸如列表、字典等特殊数据类型，我们将在后面遇到  \n",
    "前面看了那么多，是不是有点眼花缭乱了呢，我们来动手试试吧，老师常说眼过千遍不如手过一遍：）"
   ]
  },
  {
   "cell_type": "code",
   "execution_count": 11,
   "metadata": {},
   "outputs": [
    {
     "name": "stdout",
     "output_type": "stream",
     "text": [
      "<class 'str'>\n",
      "<class 'bool'>\n",
      "<class 'float'>\n"
     ]
    }
   ],
   "source": [
    "#示例\n",
    "my_variable = 3.14\n",
    "print(type('123'))\n",
    "print(type(True))\n",
    "print(type(my_variable))"
   ]
  },
  {
   "cell_type": "code",
   "execution_count": 12,
   "metadata": {},
   "outputs": [],
   "source": [
    "####Test Zone####\n",
    "#试着构造不同类型的变量并打印出它的类型\n",
    "\n",
    "\n",
    "\n",
    "\n",
    "#################"
   ]
  },
  {
   "cell_type": "markdown",
   "metadata": {},
   "source": [
    "### 扩展： 格式化字符串  \n",
    "我们经常会输出类似'亲爱的xxx你好！你xx月的话费是xx，余额是xx'之类的字符串，而xxx的内容都是根据变量变化的，所以，需要一种简便的格式化字符串的方式。  python中有两种格式化字符串\n",
    "- 第一种：采用的格式化方式和C语言是一致的，用占位符%表示。\n",
    "- 第二种：采用format()函数， 目前官方推荐采用这种方式。"
   ]
  },
  {
   "cell_type": "code",
   "execution_count": 13,
   "metadata": {},
   "outputs": [
    {
     "name": "stdout",
     "output_type": "stream",
     "text": [
      "Hello, world\n",
      "Hello, world\n",
      "Hello, 小鱼\n"
     ]
    }
   ],
   "source": [
    "#占位符方法\n",
    "print('Hello, world')         #正常打印Hello world\n",
    "customized = 'world'\n",
    "print('Hello, %s' % customized)  #利用格式化字符串，固定Hello\n",
    "customized = '小鱼'\n",
    "print('Hello, %s' % customized)"
   ]
  },
  {
   "cell_type": "markdown",
   "metadata": {},
   "source": [
    "当占位符为 %s时，表示用字符串类型进行替换，如果为 %d， 则表示为用整数替换，%f表示浮点数。 该方法目前在python3中已经不推荐使用，所以只需要能看懂即可，推荐使用第二种方法"
   ]
  },
  {
   "cell_type": "code",
   "execution_count": 15,
   "metadata": {},
   "outputs": [],
   "source": [
    "####Test Zone####\n",
    "#利用占位符格式化字符串打印不同的内容\n",
    "\n",
    "\n",
    "\n",
    "\n",
    "#################"
   ]
  },
  {
   "cell_type": "code",
   "execution_count": 16,
   "metadata": {},
   "outputs": [
    {
     "name": "stdout",
     "output_type": "stream",
     "text": [
      "Hello, 小鱼\n",
      "Hello, 小鱼\n"
     ]
    }
   ],
   "source": [
    "#format（）函数方法\n",
    "#format函数是在需要格式化的文本中用“{}”预留空位而不是占位符，同时可以预设参数\n",
    "print('Hello, {}'.format(customized))           #不预设参数使用\n",
    "print('Hello, {var}'.format(var = customized))  #预设参数使用"
   ]
  },
  {
   "cell_type": "code",
   "execution_count": 17,
   "metadata": {},
   "outputs": [],
   "source": [
    "####Test Zone####\n",
    "#利用format格式化字符串打印不同的内容\n",
    "\n",
    "\n",
    "\n",
    "\n",
    "#################"
   ]
  },
  {
   "cell_type": "markdown",
   "metadata": {},
   "source": [
    "# 3.简单运算"
   ]
  },
  {
   "cell_type": "markdown",
   "metadata": {},
   "source": [
    "什么是运算呢？举个简单的例子 1 + 2 = 3， 例子中，执行的加法被称为运算， 而\"+\"被称为运算符  \n",
    "在此处我们仅需掌握**算术运算**和**比较运算**  "
   ]
  },
  {
   "cell_type": "code",
   "execution_count": 14,
   "metadata": {},
   "outputs": [],
   "source": [
    "#我们先定义两个变量v1和v2\n",
    "v1 = 10\n",
    "v2 = 15"
   ]
  },
  {
   "cell_type": "markdown",
   "metadata": {},
   "source": [
    "算术运算符"
   ]
  },
  {
   "cell_type": "code",
   "execution_count": 15,
   "metadata": {},
   "outputs": [
    {
     "name": "stdout",
     "output_type": "stream",
     "text": [
      "25\n",
      "-5\n",
      "150\n",
      "0.6666666666666666\n",
      "10\n",
      "100\n",
      "1\n"
     ]
    }
   ],
   "source": [
    "print(v1 + v2) #加法\n",
    "print(v1 - v2) #减法\n",
    "print(v1 * v2) #乘法\n",
    "print(v1 / v2) #除法\n",
    "print(v1 % v2) #取模， 返回除法的余数\n",
    "print(v1 ** 2) #幂运算，返回v1的平方\n",
    "print(v2 // v1) #取整除，向下取接近除数的整数"
   ]
  },
  {
   "cell_type": "markdown",
   "metadata": {},
   "source": [
    "比较运算符"
   ]
  },
  {
   "cell_type": "code",
   "execution_count": 17,
   "metadata": {},
   "outputs": [
    {
     "name": "stdout",
     "output_type": "stream",
     "text": [
      "False\n",
      "True\n",
      "False\n",
      "True\n",
      "False\n",
      "True\n"
     ]
    }
   ],
   "source": [
    "print(v1 == v2) #判断是否相等，如果相等返回True，否则False\n",
    "print(v1 != v2) #判断是否不相等，如果不等返回True，否则False\n",
    "print(v1 > v2)  #判断v1是否大于v2\n",
    "print(v1 < v2)  #判断v1是否小于v2\n",
    "print(v1 >= v2) #判断v1是否大于等于v2\n",
    "print(v1 <= v2) #判断v1是否小于等于v2"
   ]
  },
  {
   "cell_type": "markdown",
   "metadata": {},
   "source": [
    "# 4.输入函数：input()"
   ]
  },
  {
   "cell_type": "markdown",
   "metadata": {},
   "source": [
    "- 接下来我们结合前面学习的“print”、“变量”和此处的输入函数来实现一个有意思的东西  \n",
    "- 跟print('输出内容')函数不同，**input()通常是在调用的时候输入东西存储到变量中，例如 num = input()**\n",
    "- 但是在使用中，我们通常会加上一些提示内容来提示用户该输入什么样的内容，例如 **num = input('请输入一个数字：')**\n",
    "- 我们直接试验一下例子"
   ]
  },
  {
   "cell_type": "code",
   "execution_count": 6,
   "metadata": {
    "scrolled": true
   },
   "outputs": [
    {
     "name": "stdout",
     "output_type": "stream",
     "text": [
      "请输入你的年龄20\n",
      "你的年龄为：\n",
      "20\n"
     ]
    }
   ],
   "source": [
    "num = input('请输入你的年龄')\n",
    "print('你的年龄为：')\n",
    "print(num)"
   ]
  },
  {
   "cell_type": "markdown",
   "metadata": {},
   "source": [
    "现在我们再来打印一下num变量的数据类型，照例说我们输入的是整数20，它应该返回的类型是整数(int)对吗？"
   ]
  },
  {
   "cell_type": "code",
   "execution_count": 18,
   "metadata": {},
   "outputs": [
    {
     "name": "stdout",
     "output_type": "stream",
     "text": [
      "<class 'str'>\n"
     ]
    }
   ],
   "source": [
    "print(type(num))"
   ]
  },
  {
   "cell_type": "markdown",
   "metadata": {},
   "source": [
    "- 可以看到，结果返回的却是str即字符串类型，这是因为输入函数input()不能事先确定用户输入的是什么东西，所以只好先一股脑儿都把你们当作是字符串类型的了。  \n",
    "- 我们可以通过类型转换函数将变量类型进行转换，转换函数非常简单，例如转换为整数就是int(),转为浮点数就是float()，对应的英文缩写\n",
    "- 例如要将上述的num由字符串类型转换为数字类型只需要 int(num)即可"
   ]
  },
  {
   "cell_type": "code",
   "execution_count": 20,
   "metadata": {
    "scrolled": true
   },
   "outputs": [
    {
     "name": "stdout",
     "output_type": "stream",
     "text": [
      "<class 'int'>\n",
      "21\n"
     ]
    }
   ],
   "source": [
    "num = int(num)\n",
    "print(type(num))\n",
    "#这时候我们就可以对num这个变量执行数字的算术运算了\n",
    "print(num + 1)"
   ]
  },
  {
   "cell_type": "markdown",
   "metadata": {},
   "source": [
    "# 5. 整合上面的内容来帮助小鱼吧！"
   ]
  },
  {
   "cell_type": "markdown",
   "metadata": {},
   "source": [
    "目前我们已经掌握了print函数和input函数，变量，简单运算。这已经足够支撑我们帮助小鱼完成她要的小程序拉。  \n",
    "同学们可以先不往下查看正确的代码，而是先自己实现一下再做对比，这样知识掌握将更扎实。  "
   ]
  },
  {
   "cell_type": "code",
   "execution_count": null,
   "metadata": {},
   "outputs": [],
   "source": [
    "#######自己实现试试########\n",
    "\n",
    "\n",
    "\n",
    "\n",
    "\n",
    "\n",
    "\n",
    "\n",
    "\n",
    "\n",
    "###########################"
   ]
  },
  {
   "cell_type": "code",
   "execution_count": 7,
   "metadata": {
    "scrolled": true
   },
   "outputs": [
    {
     "name": "stdout",
     "output_type": "stream",
     "text": [
      "欢迎来参加小鱼的相亲大会，现在我们需要您提供一些个人信息：\n",
      "您的姓名是？小汤\n",
      "您的年龄是28\n",
      "相亲对象: 小汤； 与小鱼你的年龄对象是：14岁\n"
     ]
    }
   ],
   "source": [
    "# 先定义一个变量储存小鱼自己的年龄\n",
    "age_xiaoyu = 14\n",
    "\n",
    "# 而后我们定义一个输入函数，让相亲对象输入他的姓名和年龄\n",
    "print('欢迎来参加小鱼的相亲大会，现在我们需要您提供一些个人信息：')\n",
    "date_name = input('您的姓名是？')\n",
    "date_age = input('您的年龄是')\n",
    "\n",
    "# 通过简单运算得出年龄的差距\n",
    "date_age = int(date_age) #别忘了输入函数默认返回的是字符串类型，我们需要转换为整数才能进行算术运算\n",
    "gap = date_age - age_xiaoyu\n",
    "\n",
    "# 将结果进行输出反馈给小鱼\n",
    "print('相亲对象: {}； 与小鱼你的年龄差距是：{}岁'.format(date_name, gap))#这里用到了格式化字符串功能，在下面有解释"
   ]
  },
  {
   "cell_type": "markdown",
   "metadata": {},
   "source": [
    "恭喜你完成了第一天的学习内容，今天你学习了print函数和input函数，变量，简单运算，格式化字符串，并且整合了学习内容写了一个小程序帮助小鱼快速的查看相亲对象和她的年龄差距，这给算术不好的小鱼带来了很大的帮助。记得完成小习题打卡来巩固你今天学习到的内容噢！明天我们将学习更多的内容，可以更好地帮助小鱼解决更复杂的问题，明天见！"
   ]
  },
  {
   "cell_type": "markdown",
   "metadata": {},
   "source": [
    "tips：本材料适用于零基础学员快速入门，学员需根据课程视频或其它材料补全其他运算符与pep8规则的内容以完成今天的习题打卡"
   ]
  },
  {
   "cell_type": "markdown",
   "metadata": {},
   "source": [
    "### 参考资料来源：\n",
    "廖雪峰Python教程：https://www.liaoxuefeng.com/  \n",
    "谷歌Python教程：https://developers.google.cn/edu/python/  \n",
    "《Python编程从入门到实践》  "
   ]
  }
 ],
 "metadata": {
  "kernelspec": {
   "display_name": "Python 3",
   "language": "python",
   "name": "python3"
  },
  "language_info": {
   "codemirror_mode": {
    "name": "ipython",
    "version": 3
   },
   "file_extension": ".py",
   "mimetype": "text/x-python",
   "name": "python",
   "nbconvert_exporter": "python",
   "pygments_lexer": "ipython3",
   "version": "3.6.5"
  }
 },
 "nbformat": 4,
 "nbformat_minor": 2
}
